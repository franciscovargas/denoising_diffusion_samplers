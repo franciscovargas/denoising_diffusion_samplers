{
 "cells": [
  {
   "cell_type": "code",
   "execution_count": 2,
   "metadata": {},
   "outputs": [],
   "source": [
    "from dds.configs.config import set_task, get_config\n",
    "from dds.train_dds import train_dds\n",
    "\n",
    "import numpy as onp"
   ]
  },
  {
   "cell_type": "code",
   "execution_count": 9,
   "metadata": {},
   "outputs": [],
   "source": [
    "funnel_config = get_config()\n",
    "\n",
    "# Time and step settings (Need to be done before calling set_task)\n",
    "funnel_config.model.tfinal = 6.4\n",
    "funnel_config.model.dt = 0.05\n",
    "\n",
    "# if funnel_config.model.reference_process_key == \"oudstl\":\n",
    "#     funnel_config.model.step_scheme_key = \"cos_sq\"\n",
    "\n",
    "funnel_config = set_task(funnel_config, \"funnel\")\n",
    "funnel_config.model.reference_process_key = \"oudstl\"\n",
    "\n",
    "if funnel_config.model.reference_process_key == \"oudstl\":\n",
    "    funnel_config.model.step_scheme_key = \"linear\"\n",
    "    \n",
    "    # Opt setting for funnel\n",
    "    funnel_config.model.sigma = 1 # 1.075\n",
    "    funnel_config.model.alpha = 0.6875\n",
    "    funnel_config.model.m = 1.0\n",
    "        \n",
    "    # Path opt settings    \n",
    "    funnel_config.model.exp_dds = False\n",
    "\n",
    "\n",
    "funnel_config.model.stl = False\n",
    "funnel_config.model.detach_stl_drift = False\n",
    "\n",
    "funnel_config.trainer.notebook = True\n",
    "funnel_config.trainer.epochs = 11000\n",
    "# Opt settings we use\n",
    "# funnel_config.trainer.learning_rate = 0.0001\n",
    "funnel_config.trainer.learning_rate = 5 * 10**(-3)\n",
    "funnel_config.trainer.lr_sch_base_dec = 0.95 # For funnel"
   ]
  },
  {
   "cell_type": "code",
   "execution_count": 10,
   "metadata": {},
   "outputs": [
    {
     "data": {
      "text/plain": [
       "'oudstl'"
      ]
     },
     "execution_count": 10,
     "metadata": {},
     "output_type": "execute_result"
    }
   ],
   "source": [
    "funnel_config.model.reference_process_key "
   ]
  },
  {
   "cell_type": "code",
   "execution_count": 11,
   "metadata": {},
   "outputs": [
    {
     "data": {
      "text/plain": [
       "10"
      ]
     },
     "execution_count": 11,
     "metadata": {},
     "output_type": "execute_result"
    }
   ],
   "source": [
    "funnel_config.model.input_dim"
   ]
  },
  {
   "cell_type": "code",
   "execution_count": 12,
   "metadata": {},
   "outputs": [
    {
     "data": {
      "text/plain": [
       "'cos_sq'"
      ]
     },
     "execution_count": 12,
     "metadata": {},
     "output_type": "execute_result"
    }
   ],
   "source": [
    "funnel_config.model.step_scheme_key"
   ]
  },
  {
   "cell_type": "code",
   "execution_count": 13,
   "metadata": {},
   "outputs": [
    {
     "data": {
      "text/plain": [
       "(128,)"
      ]
     },
     "execution_count": 13,
     "metadata": {},
     "output_type": "execute_result"
    }
   ],
   "source": [
    "funnel_config.model.ts.shape"
   ]
  },
  {
   "cell_type": "code",
   "execution_count": 14,
   "metadata": {},
   "outputs": [
    {
     "data": {
      "text/html": [
       "wandb version 0.15.11 is available!  To upgrade, please run:\n",
       " $ pip install wandb --upgrade"
      ],
      "text/plain": [
       "<IPython.core.display.HTML object>"
      ]
     },
     "metadata": {},
     "output_type": "display_data"
    },
    {
     "data": {
      "text/html": [
       "Tracking run with wandb version 0.13.5"
      ],
      "text/plain": [
       "<IPython.core.display.HTML object>"
      ]
     },
     "metadata": {},
     "output_type": "display_data"
    },
    {
     "data": {
      "text/html": [
       "Run data is saved locally in <code>/home/sp2058/denoising_diffusion_samplers/notebooks/wandb/run-20230924_011940-2xxat5gg</code>"
      ],
      "text/plain": [
       "<IPython.core.display.HTML object>"
      ]
     },
     "metadata": {},
     "output_type": "display_data"
    },
    {
     "data": {
      "text/html": [
       "Syncing run <strong><a href=\"https://wandb.ai/shreyaspadhy/dds/runs/2xxat5gg\" target=\"_blank\">good-sponge-20</a></strong> to <a href=\"https://wandb.ai/shreyaspadhy/dds\" target=\"_blank\">Weights & Biases</a> (<a href=\"https://wandb.me/run\" target=\"_blank\">docs</a>)<br/>"
      ],
      "text/plain": [
       "<IPython.core.display.HTML object>"
      ]
     },
     "metadata": {},
     "output_type": "display_data"
    },
    {
     "name": "stdout",
     "output_type": "stream",
     "text": [
      "('epoch: %s %s  loss: %s', 0, 'TRAIN', 2.9365768432617188)\n",
      "('epoch: %s %s  loss: %s', 100, 'TRAIN', 1.9452086687088013)\n",
      "('epoch: %s %s  loss: %s', 200, 'TRAIN', 1.7220619916915894)\n",
      "('epoch: %s %s  loss: %s', 300, 'TRAIN', 1.6310051679611206)\n",
      "('epoch: %s %s  loss: %s', 400, 'TRAIN', 1.5612361431121826)\n",
      "('epoch: %s %s  loss: %s', 500, 'TRAIN', 1.694536805152893)\n",
      "('epoch: %s %s  loss: %s', 600, 'TRAIN', 1.575049877166748)\n",
      "('epoch: %s %s  loss: %s', 700, 'TRAIN', 1.585673451423645)\n",
      "('epoch: %s %s  loss: %s', 800, 'TRAIN', 1.5566277503967285)\n",
      "('epoch: %s %s  loss: %s', 900, 'TRAIN', 1.5844440460205078)\n",
      "('epoch: %s %s  loss: %s', 1000, 'TRAIN', 1.586408257484436)\n",
      "('epoch: %s %s  loss: %s', 1100, 'TRAIN', 2.1104750633239746)\n",
      "('epoch: %s %s  loss: %s', 1200, 'TRAIN', 1.462278127670288)\n",
      "('epoch: %s %s  loss: %s', 1300, 'TRAIN', 1.410008192062378)\n",
      "('epoch: %s %s  loss: %s', 1400, 'TRAIN', 1.4263496398925781)\n",
      "('epoch: %s %s  loss: %s', 1500, 'TRAIN', 1.3722158670425415)\n",
      "('epoch: %s %s  loss: %s', 1600, 'TRAIN', 1.646073818206787)\n",
      "('epoch: %s %s  loss: %s', 1700, 'TRAIN', 1.456021785736084)\n",
      "('epoch: %s %s  loss: %s', 1800, 'TRAIN', 2.0126616954803467)\n",
      "('epoch: %s %s  loss: %s', 1900, 'TRAIN', 1.5219358205795288)\n",
      "('epoch: %s %s  loss: %s', 2000, 'TRAIN', 2.06676983833313)\n",
      "('epoch: %s %s  loss: %s', 2100, 'TRAIN', 1.4999890327453613)\n",
      "('epoch: %s %s  loss: %s', 2200, 'TRAIN', 1.3490086793899536)\n",
      "('epoch: %s %s  loss: %s', 2300, 'TRAIN', 1.448767900466919)\n",
      "('epoch: %s %s  loss: %s', 2400, 'TRAIN', 1.4774444103240967)\n",
      "('epoch: %s %s  loss: %s', 2500, 'TRAIN', 1.6275817155838013)\n",
      "('epoch: %s %s  loss: %s', 2600, 'TRAIN', 1.494930386543274)\n",
      "('epoch: %s %s  loss: %s', 2700, 'TRAIN', 1.5483092069625854)\n",
      "('epoch: %s %s  loss: %s', 2800, 'TRAIN', 1.5276421308517456)\n",
      "('epoch: %s %s  loss: %s', 2900, 'TRAIN', 1.4468926191329956)\n",
      "('epoch: %s %s  loss: %s', 3000, 'TRAIN', 1.4006894826889038)\n",
      "('epoch: %s %s  loss: %s', 3100, 'TRAIN', 1.4301360845565796)\n",
      "('epoch: %s %s  loss: %s', 3200, 'TRAIN', 1.5117626190185547)\n",
      "('epoch: %s %s  loss: %s', 3300, 'TRAIN', 1.421723484992981)\n",
      "('epoch: %s %s  loss: %s', 3400, 'TRAIN', 1.5243748426437378)\n",
      "('epoch: %s %s  loss: %s', 3500, 'TRAIN', 1.4889414310455322)\n",
      "('epoch: %s %s  loss: %s', 3600, 'TRAIN', 1.505676507949829)\n",
      "('epoch: %s %s  loss: %s', 3700, 'TRAIN', 1.416212558746338)\n",
      "('epoch: %s %s  loss: %s', 3800, 'TRAIN', 1.4519366025924683)\n",
      "('epoch: %s %s  loss: %s', 3900, 'TRAIN', 1.6825999021530151)\n",
      "('epoch: %s %s  loss: %s', 4000, 'TRAIN', 1.4099595546722412)\n",
      "('epoch: %s %s  loss: %s', 4100, 'TRAIN', 1.4102925062179565)\n",
      "('epoch: %s %s  loss: %s', 4200, 'TRAIN', 1.4065061807632446)\n",
      "('epoch: %s %s  loss: %s', 4300, 'TRAIN', 1.6185513734817505)\n",
      "('epoch: %s %s  loss: %s', 4400, 'TRAIN', 1.4752881526947021)\n",
      "('epoch: %s %s  loss: %s', 4500, 'TRAIN', 1.5353667736053467)\n",
      "('epoch: %s %s  loss: %s', 4600, 'TRAIN', 1.5438839197158813)\n",
      "('epoch: %s %s  loss: %s', 4700, 'TRAIN', 1.4648878574371338)\n",
      "('epoch: %s %s  loss: %s', 4800, 'TRAIN', 1.3722825050354004)\n",
      "('epoch: %s %s  loss: %s', 4900, 'TRAIN', 1.432826280593872)\n",
      "('epoch: %s %s  loss: %s', 5000, 'TRAIN', 1.4529792070388794)\n",
      "('epoch: %s %s  loss: %s', 5100, 'TRAIN', 1.551054835319519)\n",
      "('epoch: %s %s  loss: %s', 5200, 'TRAIN', 1.4268710613250732)\n",
      "('epoch: %s %s  loss: %s', 5300, 'TRAIN', 1.4890855550765991)\n",
      "('epoch: %s %s  loss: %s', 5400, 'TRAIN', 1.47086501121521)\n",
      "('epoch: %s %s  loss: %s', 5500, 'TRAIN', 1.3764749765396118)\n",
      "('epoch: %s %s  loss: %s', 5600, 'TRAIN', 1.4954718351364136)\n",
      "('epoch: %s %s  loss: %s', 5700, 'TRAIN', 1.4402786493301392)\n",
      "('epoch: %s %s  loss: %s', 5800, 'TRAIN', 1.4292739629745483)\n",
      "('epoch: %s %s  loss: %s', 5900, 'TRAIN', 1.36795175075531)\n",
      "('epoch: %s %s  loss: %s', 6000, 'TRAIN', 1.3978606462478638)\n",
      "('epoch: %s %s  loss: %s', 6100, 'TRAIN', 1.3824666738510132)\n",
      "('epoch: %s %s  loss: %s', 6200, 'TRAIN', 1.6217457056045532)\n",
      "('epoch: %s %s  loss: %s', 6300, 'TRAIN', 1.5291814804077148)\n",
      "('epoch: %s %s  loss: %s', 6400, 'TRAIN', 1.3823179006576538)\n",
      "('epoch: %s %s  loss: %s', 6500, 'TRAIN', 1.4815053939819336)\n",
      "('epoch: %s %s  loss: %s', 6600, 'TRAIN', 1.4841985702514648)\n",
      "('epoch: %s %s  loss: %s', 6700, 'TRAIN', 1.506117343902588)\n",
      "('epoch: %s %s  loss: %s', 6800, 'TRAIN', 1.4833173751831055)\n",
      "('epoch: %s %s  loss: %s', 6900, 'TRAIN', 1.5146970748901367)\n",
      "('epoch: %s %s  loss: %s', 7000, 'TRAIN', 1.3834842443466187)\n",
      "('epoch: %s %s  loss: %s', 7100, 'TRAIN', 1.444751501083374)\n",
      "('epoch: %s %s  loss: %s', 7200, 'TRAIN', 1.4267088174819946)\n",
      "('epoch: %s %s  loss: %s', 7300, 'TRAIN', 1.5058592557907104)\n",
      "('epoch: %s %s  loss: %s', 7400, 'TRAIN', 1.4610161781311035)\n",
      "('epoch: %s %s  loss: %s', 7500, 'TRAIN', 1.5317959785461426)\n",
      "('epoch: %s %s  loss: %s', 7600, 'TRAIN', 1.3871691226959229)\n",
      "('epoch: %s %s  loss: %s', 7700, 'TRAIN', 1.5624608993530273)\n",
      "('epoch: %s %s  loss: %s', 7800, 'TRAIN', 1.4224448204040527)\n",
      "('epoch: %s %s  loss: %s', 7900, 'TRAIN', 1.4366304874420166)\n",
      "('epoch: %s %s  loss: %s', 8000, 'TRAIN', 1.4497789144515991)\n",
      "('epoch: %s %s  loss: %s', 8100, 'TRAIN', 1.3916641473770142)\n",
      "('epoch: %s %s  loss: %s', 8200, 'TRAIN', 1.5333468914031982)\n",
      "('epoch: %s %s  loss: %s', 8300, 'TRAIN', 1.3799482583999634)\n",
      "('epoch: %s %s  loss: %s', 8400, 'TRAIN', 1.4044578075408936)\n",
      "('epoch: %s %s  loss: %s', 8500, 'TRAIN', 1.3945000171661377)\n",
      "('epoch: %s %s  loss: %s', 8600, 'TRAIN', 1.3994957208633423)\n",
      "('epoch: %s %s  loss: %s', 8700, 'TRAIN', 1.3829282522201538)\n",
      "('epoch: %s %s  loss: %s', 8800, 'TRAIN', 1.3794344663619995)\n",
      "('epoch: %s %s  loss: %s', 8900, 'TRAIN', 1.4731582403182983)\n",
      "('epoch: %s %s  loss: %s', 9000, 'TRAIN', 1.4892241954803467)\n",
      "('epoch: %s %s  loss: %s', 9100, 'TRAIN', 1.4904297590255737)\n",
      "('epoch: %s %s  loss: %s', 9200, 'TRAIN', 1.339048981666565)\n",
      "('epoch: %s %s  loss: %s', 9300, 'TRAIN', 1.372314214706421)\n",
      "('epoch: %s %s  loss: %s', 9400, 'TRAIN', 1.33745539188385)\n",
      "('epoch: %s %s  loss: %s', 9500, 'TRAIN', 1.4043567180633545)\n",
      "('epoch: %s %s  loss: %s', 9600, 'TRAIN', 1.4369019269943237)\n",
      "('epoch: %s %s  loss: %s', 9700, 'TRAIN', 1.3742097616195679)\n",
      "('epoch: %s %s  loss: %s', 9800, 'TRAIN', 1.453404188156128)\n",
      "('epoch: %s %s  loss: %s', 9900, 'TRAIN', 1.4348008632659912)\n"
     ]
    },
    {
     "data": {
      "text/html": [
       "Waiting for W&B process to finish... <strong style=\"color:red\">(failed 1).</strong> Press Control-C to abort syncing."
      ],
      "text/plain": [
       "<IPython.core.display.HTML object>"
      ]
     },
     "metadata": {},
     "output_type": "display_data"
    },
    {
     "data": {
      "application/vnd.jupyter.widget-view+json": {
       "model_id": "b6c5df6bd3d74d9db89fd89a7a984187",
       "version_major": 2,
       "version_minor": 0
      },
      "text/plain": [
       "VBox(children=(Label(value='0.007 MB of 0.007 MB uploaded (0.000 MB deduped)\\r'), FloatProgress(value=1.0, max…"
      ]
     },
     "metadata": {},
     "output_type": "display_data"
    },
    {
     "data": {
      "text/html": [
       "<style>\n",
       "    table.wandb td:nth-child(1) { padding: 0 10px; text-align: left ; width: auto;} td:nth-child(2) {text-align: left ; width: 100%}\n",
       "    .wandb-row { display: flex; flex-direction: row; flex-wrap: wrap; justify-content: flex-start; width: 100% }\n",
       "    .wandb-col { display: flex; flex-direction: column; flex-basis: 100%; flex: 1; padding: 10px; }\n",
       "    </style>\n",
       "<div class=\"wandb-row\"><div class=\"wandb-col\"><h3>Run history:</h3><br/><table class=\"wandb\"><tr><td>elbo_results/epoch</td><td>▁▁▁▁▂▂▂▂▂▃▃▃▃▃▃▄▄▄▄▄▅▅▅▅▅▅▆▆▆▆▆▇▇▇▇▇▇███</td></tr><tr><td>elbo_results/loss</td><td>█▃▃▂▂▁▁▁▄▁▂▂▁▁▂▁▁▂▂▁▁▂▁▁▁▂▂▂▁▂▁▁▁▁▁▁▂▁▁▁</td></tr><tr><td>is_results/epoch</td><td>▁▁▁▁▂▂▂▂▂▃▃▃▃▃▃▄▄▄▄▄▅▅▅▅▅▅▆▆▆▆▆▇▇▇▇▇▇███</td></tr><tr><td>is_results/loss</td><td>▆▇▇█▆▇▇▆█▆█▆▇▇▇▆▇█▇▇▆▄▆▁▇█▇▆▇▇▇▆▇▇▇▆█▆▆▇</td></tr><tr><td>lr/epoch</td><td>▁▁▁▁▂▂▂▂▂▃▃▃▃▃▃▄▄▄▄▄▅▅▅▅▅▅▆▆▆▆▆▇▇▇▇▇▇███</td></tr><tr><td>lr/lr</td><td>█▇▅▄▄▃▃▂▂▂▂▁▁▁▁▁▁▁▁▁▁▁▁▁▁▁▁▁▁▁▁▁▁▁▁▁▁▁▁▁</td></tr><tr><td>pf_results/epoch</td><td>▁▁▁▁▂▂▂▂▂▃▃▃▃▃▃▄▄▄▄▄▅▅▅▅▅▅▆▆▆▆▆▇▇▇▇▇▇███</td></tr><tr><td>pf_results/loss</td><td>███▇█▇▇▆▆▆▆▆▃▁▇▅▆▇▆▆▆▅▆▄▄▄▆▆▆▆▇▅▄▆▆▅▆▆▆▇</td></tr></table><br/></div><div class=\"wandb-col\"><h3>Run summary:</h3><br/><table class=\"wandb\"><tr><td>elbo_results/epoch</td><td>9900</td></tr><tr><td>elbo_results/loss</td><td>1.4348</td></tr><tr><td>is_results/epoch</td><td>9900</td></tr><tr><td>is_results/loss</td><td>0.84959</td></tr><tr><td>lr/epoch</td><td>9900</td></tr><tr><td>lr/lr</td><td>0.0</td></tr><tr><td>pf_results/epoch</td><td>9900</td></tr><tr><td>pf_results/loss</td><td>-1.57771</td></tr></table><br/></div></div>"
      ],
      "text/plain": [
       "<IPython.core.display.HTML object>"
      ]
     },
     "metadata": {},
     "output_type": "display_data"
    },
    {
     "data": {
      "text/html": [
       "Synced <strong style=\"color:#cdcd00\">good-sponge-20</strong>: <a href=\"https://wandb.ai/shreyaspadhy/dds/runs/2xxat5gg\" target=\"_blank\">https://wandb.ai/shreyaspadhy/dds/runs/2xxat5gg</a><br/>Synced 7 W&B file(s), 0 media file(s), 0 artifact file(s) and 1 other file(s)"
      ],
      "text/plain": [
       "<IPython.core.display.HTML object>"
      ]
     },
     "metadata": {},
     "output_type": "display_data"
    },
    {
     "data": {
      "text/html": [
       "Find logs at: <code>./wandb/run-20230924_011940-2xxat5gg/logs</code>"
      ],
      "text/plain": [
       "<IPython.core.display.HTML object>"
      ]
     },
     "metadata": {},
     "output_type": "display_data"
    },
    {
     "ename": "KeyboardInterrupt",
     "evalue": "",
     "output_type": "error",
     "traceback": [
      "\u001b[0;31m---------------------------------------------------------------------------\u001b[0m",
      "\u001b[0;31mKeyboardInterrupt\u001b[0m                         Traceback (most recent call last)",
      "\u001b[1;32m/home/sp2058/denoising_diffusion_samplers/notebooks/funnel test.ipynb Cell 7\u001b[0m line \u001b[0;36m2\n\u001b[1;32m      <a href='vscode-notebook-cell://ssh-remote%2Bcl/home/sp2058/denoising_diffusion_samplers/notebooks/funnel%20test.ipynb#W6sdnNjb2RlLXJlbW90ZQ%3D%3D?line=0'>1</a>\u001b[0m \u001b[39m# funnel_config.trainer.epochs = 2000\u001b[39;00m\n\u001b[0;32m----> <a href='vscode-notebook-cell://ssh-remote%2Bcl/home/sp2058/denoising_diffusion_samplers/notebooks/funnel%20test.ipynb#W6sdnNjb2RlLXJlbW90ZQ%3D%3D?line=1'>2</a>\u001b[0m out_dict \u001b[39m=\u001b[39m train_dds(funnel_config)\n",
      "File \u001b[0;32m~/denoising_diffusion_samplers/dds/train_dds.py:373\u001b[0m, in \u001b[0;36mtrain_dds\u001b[0;34m(config)\u001b[0m\n\u001b[1;32m    370\u001b[0m rng_key \u001b[39m=\u001b[39m \u001b[39mnext\u001b[39m(seq)\n\u001b[1;32m    371\u001b[0m subkeys \u001b[39m=\u001b[39m jax\u001b[39m.\u001b[39mrandom\u001b[39m.\u001b[39msplit(rng_key, device_no)\n\u001b[0;32m--> 373\u001b[0m trainable_params, opt_state, model_state \u001b[39m=\u001b[39m update(trainable_params,\n\u001b[1;32m    374\u001b[0m                                                   non_trainable_params,\n\u001b[1;32m    375\u001b[0m                                                   model_state, opt_state,\n\u001b[1;32m    376\u001b[0m                                                   subkeys, batch_size_)\n\u001b[1;32m    377\u001b[0m \u001b[39mif\u001b[39;00m config\u001b[39m.\u001b[39mtrainer\u001b[39m.\u001b[39mtimer:\n\u001b[1;32m    378\u001b[0m   \u001b[39mdef\u001b[39;00m \u001b[39mfunc\u001b[39m():\n",
      "File \u001b[0;32m<string>:1\u001b[0m, in \u001b[0;36m<lambda>\u001b[0;34m(_cls)\u001b[0m\n",
      "\u001b[0;31mKeyboardInterrupt\u001b[0m: "
     ]
    }
   ],
   "source": [
    "# funnel_config.trainer.epochs = 2000\n",
    "out_dict = train_dds(funnel_config)"
   ]
  },
  {
   "cell_type": "code",
   "execution_count": 23,
   "metadata": {},
   "outputs": [
    {
     "data": {
      "text/plain": [
       "dict_keys(['elbo', 'is', 'pf', 'elbo_eval', 'is_eval', 'pf_eval', 'aug', 'aug_ode', 'aug_ode_ext'])"
      ]
     },
     "execution_count": 23,
     "metadata": {},
     "output_type": "execute_result"
    }
   ],
   "source": [
    "out_dict[-1].keys()"
   ]
  },
  {
   "cell_type": "code",
   "execution_count": 24,
   "metadata": {},
   "outputs": [
    {
     "data": {
      "text/plain": [
       "0.1783364772796631"
      ]
     },
     "execution_count": 24,
     "metadata": {},
     "output_type": "execute_result"
    }
   ],
   "source": [
    "onp.mean(out_dict[-1][\"is_eval\"])"
   ]
  },
  {
   "cell_type": "code",
   "execution_count": 25,
   "metadata": {},
   "outputs": [
    {
     "data": {
      "text/plain": [
       "-29.27871119181315"
      ]
     },
     "execution_count": 25,
     "metadata": {},
     "output_type": "execute_result"
    }
   ],
   "source": [
    "onp.mean(out_dict[-1][\"pf_eval\"])"
   ]
  },
  {
   "cell_type": "code",
   "execution_count": 12,
   "metadata": {},
   "outputs": [
    {
     "data": {
      "text/plain": [
       "[-26.153297424316406,\n",
       " -32.977294921875,\n",
       " -32.87266540527344,\n",
       " -29.588817596435547,\n",
       " -33.623817443847656,\n",
       " -29.697425842285156,\n",
       " -27.014232635498047,\n",
       " -27.44237518310547,\n",
       " -23.68344497680664,\n",
       " -28.254627227783203,\n",
       " -34.311161041259766,\n",
       " -26.757247924804688,\n",
       " -28.34442901611328,\n",
       " -22.405651092529297,\n",
       " -31.151779174804688,\n",
       " -23.549104690551758,\n",
       " -27.946117401123047,\n",
       " -31.678722381591797,\n",
       " -31.535213470458984,\n",
       " -28.132266998291016,\n",
       " -22.659343719482422,\n",
       " -25.918323516845703,\n",
       " -33.20878982543945,\n",
       " -32.32448196411133,\n",
       " -25.301029205322266,\n",
       " -38.871665954589844,\n",
       " -24.329633712768555,\n",
       " -32.61470031738281,\n",
       " -29.437786102294922,\n",
       " -36.575889587402344]"
      ]
     },
     "execution_count": 12,
     "metadata": {},
     "output_type": "execute_result"
    }
   ],
   "source": [
    "out_dict[-1][\"pf_eval\"]"
   ]
  },
  {
   "cell_type": "code",
   "execution_count": 13,
   "metadata": {},
   "outputs": [
    {
     "data": {
      "text/plain": [
       "'oudstl'"
      ]
     },
     "execution_count": 13,
     "metadata": {},
     "output_type": "execute_result"
    }
   ],
   "source": [
    "funnel_config.model.reference_process_key"
   ]
  },
  {
   "cell_type": "code",
   "execution_count": 14,
   "metadata": {},
   "outputs": [
    {
     "data": {
      "text/plain": [
       "[<matplotlib.lines.Line2D at 0x7f74cfac7e80>]"
      ]
     },
     "execution_count": 14,
     "metadata": {},
     "output_type": "execute_result"
    },
    {
     "data": {
      "image/png": "[encoded data removed]",
      "text/plain": [
       "<Figure size 640x480 with 1 Axes>"
      ]
     },
     "metadata": {},
     "output_type": "display_data"
    }
   ],
   "source": [
    "import matplotlib.pyplot as plt\n",
    "\n",
    "ode_targ = out_dict[-1][\"aug_ode\"][:, -1,:2]\n",
    "sde_targ = out_dict[-1][\"aug\"][:, -1,:2]\n",
    "\n",
    "plt.plot(ode_targ[:, 0], ode_targ[:, 1], \".\", alpha=0.4)\n",
    "plt.plot(sde_targ[:, 0], sde_targ[:, 1], \".\", alpha=0.4)"
   ]
  },
  {
   "cell_type": "code",
   "execution_count": 1,
   "metadata": {},
   "outputs": [
    {
     "ename": "NameError",
     "evalue": "name 'out_dict' is not defined",
     "output_type": "error",
     "traceback": [
      "\u001b[0;31m---------------------------------------------------------------------------\u001b[0m",
      "\u001b[0;31mNameError\u001b[0m                                 Traceback (most recent call last)",
      "Cell \u001b[0;32mIn [1], line 5\u001b[0m\n\u001b[1;32m      1\u001b[0m \u001b[38;5;28;01mimport\u001b[39;00m \u001b[38;5;21;01mmatplotlib\u001b[39;00m\u001b[38;5;21;01m.\u001b[39;00m\u001b[38;5;21;01mpyplot\u001b[39;00m \u001b[38;5;28;01mas\u001b[39;00m \u001b[38;5;21;01mplt\u001b[39;00m\n\u001b[1;32m      3\u001b[0m timestep \u001b[38;5;241m=\u001b[39m \u001b[38;5;241m40\u001b[39m\n\u001b[0;32m----> 5\u001b[0m ode_targ \u001b[38;5;241m=\u001b[39m \u001b[43mout_dict\u001b[49m[\u001b[38;5;241m-\u001b[39m\u001b[38;5;241m1\u001b[39m][\u001b[38;5;124m\"\u001b[39m\u001b[38;5;124maug_ode\u001b[39m\u001b[38;5;124m\"\u001b[39m][:, timestep,:\u001b[38;5;241m2\u001b[39m]\n\u001b[1;32m      6\u001b[0m sde_targ \u001b[38;5;241m=\u001b[39m out_dict[\u001b[38;5;241m-\u001b[39m\u001b[38;5;241m1\u001b[39m][\u001b[38;5;124m\"\u001b[39m\u001b[38;5;124maug\u001b[39m\u001b[38;5;124m\"\u001b[39m][:, timestep,:\u001b[38;5;241m2\u001b[39m]\n\u001b[1;32m      8\u001b[0m plt\u001b[38;5;241m.\u001b[39mplot(ode_targ[:, \u001b[38;5;241m0\u001b[39m], ode_targ[:, \u001b[38;5;241m1\u001b[39m], \u001b[38;5;124m\"\u001b[39m\u001b[38;5;124m.\u001b[39m\u001b[38;5;124m\"\u001b[39m, alpha\u001b[38;5;241m=\u001b[39m\u001b[38;5;241m0.4\u001b[39m)\n",
      "\u001b[0;31mNameError\u001b[0m: name 'out_dict' is not defined"
     ]
    }
   ],
   "source": [
    "import matplotlib.pyplot as plt\n",
    "\n",
    "timestep = 40\n",
    "\n",
    "ode_targ = out_dict[-1][\"aug_ode\"][:, timestep,:2]\n",
    "sde_targ = out_dict[-1][\"aug\"][:, timestep,:2]\n",
    "\n",
    "plt.plot(ode_targ[:, 0], ode_targ[:, 1], \".\", alpha=0.4)\n",
    "plt.plot(sde_targ[:, 0], sde_targ[:, 1], \".\", alpha=0.4)"
   ]
  },
  {
   "cell_type": "code",
   "execution_count": 16,
   "metadata": {},
   "outputs": [],
   "source": [
    "cake = funnel_config.trainer.lnz_pf_estimator(\n",
    "    out_dict[-1][\"aug_ode\"], funnel_config.model.source, funnel_config.model.target, debug=False)"
   ]
  },
  {
   "cell_type": "code",
   "execution_count": 17,
   "metadata": {},
   "outputs": [
    {
     "data": {
      "text/plain": [
       "DeviceArray(-34.436146, dtype=float32)"
      ]
     },
     "execution_count": 17,
     "metadata": {},
     "output_type": "execute_result"
    }
   ],
   "source": [
    "cake"
   ]
  },
  {
   "cell_type": "code",
   "execution_count": 18,
   "metadata": {},
   "outputs": [
    {
     "data": {
      "text/plain": [
       "DeviceArray(-13.986603, dtype=float32)"
      ]
     },
     "execution_count": 18,
     "metadata": {},
     "output_type": "execute_result"
    }
   ],
   "source": [
    "funnel_config.model.target(out_dict[-1][\"aug_ode\"][:, -1,:10]).mean()"
   ]
  },
  {
   "cell_type": "code",
   "execution_count": 19,
   "metadata": {},
   "outputs": [
    {
     "data": {
      "text/plain": [
       "DeviceArray(-14.966006, dtype=float32)"
      ]
     },
     "execution_count": 19,
     "metadata": {},
     "output_type": "execute_result"
    }
   ],
   "source": [
    "funnel_config.model.source(out_dict[-1][\"aug_ode\"][:, 0,:10]).mean()"
   ]
  },
  {
   "cell_type": "code",
   "execution_count": 20,
   "metadata": {},
   "outputs": [
    {
     "data": {
      "text/plain": [
       "DeviceArray(-14.966006, dtype=float32)"
      ]
     },
     "execution_count": 20,
     "metadata": {},
     "output_type": "execute_result"
    }
   ],
   "source": [
    "import distrax\n",
    "import numpy as np\n",
    "\n",
    "equi_normal2 = distrax.MultivariateNormalDiag( np.zeros(10) , funnel_config.model.sigma * np.ones(10))\n",
    "\n",
    "equi_normal2.log_prob(out_dict[-1][\"aug_ode\"][:, 0,:10]).mean()"
   ]
  },
  {
   "cell_type": "code",
   "execution_count": 21,
   "metadata": {},
   "outputs": [
    {
     "data": {
      "text/plain": [
       "{'dataset': {}, 'eval': {'seeds': 30}, 'model': {'activation': <function gelu at 0x7f74cfb72830>, 'activation_dict': {'gelu': <function gelu at 0x7f74cfb72830>, 'relu': <jax._src.custom_derivatives.custom_jvp object at 0x7f752e740df0>, 'swish': <CompiledFunction of <function silu at 0x7f752e54c3a0>>}, 'activation_key': 'gelu', 'alpha': 0.6875, 'batch_size': 300, 'detach_path': False, 'detach_stl_drift': False, 'dt': 0.05, 'elbo_batch_size': 2000, 'exp_dds': False, 'fully_connected_units': [64, 64], 'input_dim': 10, 'learn_betas': False, 'log': False, 'm': 1.0, 'network_dict': {'pis': <class 'dds.drift_nets.PISGRADNet'>, 'pisudp': <class 'dds.drift_nets_udp.UDPPISGRADNet'>, 'vanilla': <class 'dds.drift_nets.SimpleDriftNet'>, 'vanilla_udp': <class 'dds.drift_nets_udp.UDPSimpleDriftNet'>}, 'network_key': 'pis', 'reference_process_dict': {'oudstl': <class 'dds.stl_samplers.AugmentedOUDFollmerSDESTL'>, 'oududp': <class 'dds.udp_samplers.AugmentedOUDFollmerSDEUDP'>, 'oustl': <class 'dds.stl_samplers.AugmentedOUFollmerSDESTL'>, 'pisstl': <class 'dds.stl_samplers.AugmentedBrownianFollmerSDESTL'>}, 'reference_process_key': 'oudstl', 'sigma': 1.075, 'source': <bound method Transformed.log_prob of <distrax._src.distributions.mvn_diag.MultivariateNormalDiag object at 0x7f74cf9e6a10>>, 'step_scheme': <function uniform_step_scheme at 0x7f74cfb725f0>, 'step_scheme_dict': {'cos_sq': <function cos_sq_fn_step_scheme at 0x7f74cfb72290>, 'exp_dec': <function exp_fn_step_scheme at 0x7f74cfb72200>, 'last_small': <function small_lst_step_scheme at 0x7f74cfb72560>, 'linear': <function linear_step_scheme at 0x7f74cfb723b0>, 'linear_dds': <function linear_step_scheme_dds at 0x7f74cfb72440>, 'uniform': <function uniform_step_scheme at 0x7f74cfb725f0>, 'uniform_dds': <function uniform_step_scheme_dds at 0x7f74cfb724d0>}, 'step_scheme_key': 'cos_sq', 'stl': False, 'stop_grad': True, 'target': <function funnel.<locals>.neg_energy at 0x7f74cfb989d0>, 'terminal_cost': <function ou_terminal_loss at 0x7f74cfb73d00>, 'tfinal': 6.4, 'tpu': True, 'ts': DeviceArray([0.       , 0.0503937, 0.1007874, 0.1511811, 0.2015748,\n",
       "             0.2519685, 0.3023622, 0.3527559, 0.4031496, 0.4535433,\n",
       "             0.503937 , 0.5543307, 0.6047244, 0.6551181, 0.7055118,\n",
       "             0.7559055, 0.8062992, 0.8566929, 0.9070866, 0.9574803,\n",
       "             1.007874 , 1.0582677, 1.1086614, 1.1590551, 1.2094488,\n",
       "             1.2598425, 1.3102362, 1.3606299, 1.4110236, 1.4614173,\n",
       "             1.511811 , 1.5622047, 1.6125984, 1.6629921, 1.7133858,\n",
       "             1.7637795, 1.8141732, 1.8645669, 1.9149606, 1.9653543,\n",
       "             2.015748 , 2.0661416, 2.1165354, 2.1669292, 2.2173228,\n",
       "             2.2677164, 2.3181102, 2.368504 , 2.4188976, 2.4692912,\n",
       "             2.519685 , 2.5700788, 2.6204724, 2.670866 , 2.7212598,\n",
       "             2.7716537, 2.8220472, 2.8724408, 2.9228346, 2.9732285,\n",
       "             3.023622 , 3.0740156, 3.1244094, 3.1748033, 3.2251968,\n",
       "             3.2755904, 3.3259842, 3.376378 , 3.4267716, 3.4771652,\n",
       "             3.527559 , 3.5779529, 3.6283464, 3.67874  , 3.7291338,\n",
       "             3.7795277, 3.8299212, 3.8803148, 3.9307086, 3.9811025,\n",
       "             4.031496 , 4.0818896, 4.132283 , 4.1826773, 4.233071 ,\n",
       "             4.2834644, 4.3338585, 4.384252 , 4.4346457, 4.485039 ,\n",
       "             4.535433 , 4.585827 , 4.6362205, 4.686614 , 4.737008 ,\n",
       "             4.7874017, 4.8377953, 4.888189 , 4.9385824, 4.9889765,\n",
       "             5.03937  , 5.0897636, 5.1401577, 5.1905513, 5.240945 ,\n",
       "             5.2913384, 5.341732 , 5.392126 , 5.4425197, 5.4929132,\n",
       "             5.5433073, 5.593701 , 5.6440945, 5.694488 , 5.7448816,\n",
       "             5.7952757, 5.8456693, 5.896063 , 5.946457 , 5.9968505,\n",
       "             6.047244 , 6.0976377, 6.148031 , 6.1984253, 6.248819 ,\n",
       "             6.2992125, 6.3496065, 6.4      ], dtype=float32)}, 'task': 'funnel', 'trainer': {'epochs': 11000, 'learning_rate': 0.005, 'lnpi': <function funnel.<locals>.neg_energy at 0x7f74cfb989d0>, 'lnz_is_estimator': <function importance_weighted_partition_estimate at 0x7f74cfb73f40>, 'lnz_pf_estimator': <function prob_flow_lnz at 0x7f74cfb73e20>, 'log_every_n_epochs': 1, 'lr_sch_base_dec': 0.95, 'notebook': True, 'objective': <function relative_kl_objective at 0x7f74cfb73d90>, 'random_seed': 42, 'simple_gaus_mean': 6.0, 'timer': False}}"
      ]
     },
     "execution_count": 21,
     "metadata": {},
     "output_type": "execute_result"
    }
   ],
   "source": [
    "funnel_config"
   ]
  },
  {
   "cell_type": "code",
   "execution_count": null,
   "metadata": {},
   "outputs": [],
   "source": []
  }
 ],
 "metadata": {
  "kernelspec": {
   "display_name": "Python 3 (ipykernel)",
   "language": "python",
   "name": "python3"
  },
  "language_info": {
   "codemirror_mode": {
    "name": "ipython",
    "version": 3
   },
   "file_extension": ".py",
   "mimetype": "text/x-python",
   "name": "python",
   "nbconvert_exporter": "python",
   "pygments_lexer": "ipython3",
   "version": "3.10.8"
  }
 },
 "nbformat": 4,
 "nbformat_minor": 4
}
